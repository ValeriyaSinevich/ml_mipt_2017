{
 "cells": [
  {
   "cell_type": "code",
   "execution_count": 100,
   "metadata": {
    "collapsed": false
   },
   "outputs": [],
   "source": [
    "import pandas as pd\n",
    "\n",
    "train = pd.read_csv(\"train.tsv\")\n",
    "test = pd.read_csv(\"test.tsv\")\n",
    "sample_submission = pd.read_csv(\"sample_submission.tsv\")\n",
    "train = train.drop(\"Num\", axis=1)\n",
    "frac = 0.2 # fraction of learning examples used for model fitting\n",
    "\n",
    "# sample the train set if your don't want to deel with all examples\n",
    "train = train.sample(frac=frac, random_state=42)\n",
    "train = train.reset_index().drop('index', axis=1)\n",
    "test = test.drop(\"Num\", axis=1)"
   ]
  },
  {
   "cell_type": "code",
   "execution_count": 101,
   "metadata": {
    "collapsed": true
   },
   "outputs": [],
   "source": [
    "import xgboost"
   ]
  },
  {
   "cell_type": "code",
   "execution_count": 13,
   "metadata": {
    "collapsed": false
   },
   "outputs": [
    {
     "data": {
      "text/html": [
       "<div>\n",
       "<table border=\"1\" class=\"dataframe\">\n",
       "  <thead>\n",
       "    <tr style=\"text-align: right;\">\n",
       "      <th></th>\n",
       "      <th>y</th>\n",
       "      <th>year</th>\n",
       "      <th>week</th>\n",
       "      <th>shift</th>\n",
       "      <th>item_id</th>\n",
       "      <th>f1</th>\n",
       "      <th>f2</th>\n",
       "      <th>f3</th>\n",
       "      <th>f4</th>\n",
       "      <th>f5</th>\n",
       "      <th>...</th>\n",
       "      <th>f51</th>\n",
       "      <th>f52</th>\n",
       "      <th>f53</th>\n",
       "      <th>f54</th>\n",
       "      <th>f55</th>\n",
       "      <th>f56</th>\n",
       "      <th>f57</th>\n",
       "      <th>f58</th>\n",
       "      <th>f59</th>\n",
       "      <th>f60</th>\n",
       "    </tr>\n",
       "  </thead>\n",
       "  <tbody>\n",
       "    <tr>\n",
       "      <th>0</th>\n",
       "      <td>160500</td>\n",
       "      <td>2014</td>\n",
       "      <td>13</td>\n",
       "      <td>1</td>\n",
       "      <td>20452327</td>\n",
       "      <td>129441.0</td>\n",
       "      <td>104610.0</td>\n",
       "      <td>121114.0</td>\n",
       "      <td>133780.0</td>\n",
       "      <td>122580.0</td>\n",
       "      <td>...</td>\n",
       "      <td>95880.0</td>\n",
       "      <td>88520.0</td>\n",
       "      <td>107270.0</td>\n",
       "      <td>79610.0</td>\n",
       "      <td>99210.0</td>\n",
       "      <td>114561.0</td>\n",
       "      <td>93790.0</td>\n",
       "      <td>98070.0</td>\n",
       "      <td>83980.0</td>\n",
       "      <td>105240.0</td>\n",
       "    </tr>\n",
       "    <tr>\n",
       "      <th>1</th>\n",
       "      <td>13107</td>\n",
       "      <td>2014</td>\n",
       "      <td>23</td>\n",
       "      <td>1</td>\n",
       "      <td>20441989</td>\n",
       "      <td>4162.0</td>\n",
       "      <td>6760.0</td>\n",
       "      <td>7210.0</td>\n",
       "      <td>11330.0</td>\n",
       "      <td>6950.0</td>\n",
       "      <td>...</td>\n",
       "      <td>9932.0</td>\n",
       "      <td>8908.0</td>\n",
       "      <td>10464.0</td>\n",
       "      <td>7431.0</td>\n",
       "      <td>10334.0</td>\n",
       "      <td>11548.0</td>\n",
       "      <td>8698.0</td>\n",
       "      <td>8696.0</td>\n",
       "      <td>8160.0</td>\n",
       "      <td>7570.0</td>\n",
       "    </tr>\n",
       "    <tr>\n",
       "      <th>2</th>\n",
       "      <td>53402</td>\n",
       "      <td>2013</td>\n",
       "      <td>21</td>\n",
       "      <td>3</td>\n",
       "      <td>20438706</td>\n",
       "      <td>24931.0</td>\n",
       "      <td>30338.0</td>\n",
       "      <td>30690.0</td>\n",
       "      <td>37930.0</td>\n",
       "      <td>21420.0</td>\n",
       "      <td>...</td>\n",
       "      <td>34475.0</td>\n",
       "      <td>22390.0</td>\n",
       "      <td>27124.0</td>\n",
       "      <td>29660.0</td>\n",
       "      <td>30105.0</td>\n",
       "      <td>28054.0</td>\n",
       "      <td>31545.0</td>\n",
       "      <td>28185.0</td>\n",
       "      <td>34890.0</td>\n",
       "      <td>28790.0</td>\n",
       "    </tr>\n",
       "    <tr>\n",
       "      <th>3</th>\n",
       "      <td>9676</td>\n",
       "      <td>2013</td>\n",
       "      <td>15</td>\n",
       "      <td>2</td>\n",
       "      <td>20438591</td>\n",
       "      <td>11505.0</td>\n",
       "      <td>13550.0</td>\n",
       "      <td>15360.0</td>\n",
       "      <td>14750.0</td>\n",
       "      <td>12961.0</td>\n",
       "      <td>...</td>\n",
       "      <td>10920.0</td>\n",
       "      <td>14030.0</td>\n",
       "      <td>8060.0</td>\n",
       "      <td>8430.0</td>\n",
       "      <td>9980.0</td>\n",
       "      <td>13930.0</td>\n",
       "      <td>6340.0</td>\n",
       "      <td>7810.0</td>\n",
       "      <td>8960.0</td>\n",
       "      <td>10260.0</td>\n",
       "    </tr>\n",
       "    <tr>\n",
       "      <th>4</th>\n",
       "      <td>1336</td>\n",
       "      <td>2014</td>\n",
       "      <td>3</td>\n",
       "      <td>2</td>\n",
       "      <td>20449525</td>\n",
       "      <td>0.0</td>\n",
       "      <td>0.0</td>\n",
       "      <td>0.0</td>\n",
       "      <td>0.0</td>\n",
       "      <td>0.0</td>\n",
       "      <td>...</td>\n",
       "      <td>2090.0</td>\n",
       "      <td>2470.0</td>\n",
       "      <td>1145.0</td>\n",
       "      <td>2955.0</td>\n",
       "      <td>3915.0</td>\n",
       "      <td>740.0</td>\n",
       "      <td>2260.0</td>\n",
       "      <td>1403.0</td>\n",
       "      <td>1417.0</td>\n",
       "      <td>980.0</td>\n",
       "    </tr>\n",
       "  </tbody>\n",
       "</table>\n",
       "<p>5 rows × 65 columns</p>\n",
       "</div>"
      ],
      "text/plain": [
       "        y  year  week  shift   item_id        f1        f2        f3  \\\n",
       "0  160500  2014    13      1  20452327  129441.0  104610.0  121114.0   \n",
       "1   13107  2014    23      1  20441989    4162.0    6760.0    7210.0   \n",
       "2   53402  2013    21      3  20438706   24931.0   30338.0   30690.0   \n",
       "3    9676  2013    15      2  20438591   11505.0   13550.0   15360.0   \n",
       "4    1336  2014     3      2  20449525       0.0       0.0       0.0   \n",
       "\n",
       "         f4        f5    ...         f51      f52       f53      f54      f55  \\\n",
       "0  133780.0  122580.0    ...     95880.0  88520.0  107270.0  79610.0  99210.0   \n",
       "1   11330.0    6950.0    ...      9932.0   8908.0   10464.0   7431.0  10334.0   \n",
       "2   37930.0   21420.0    ...     34475.0  22390.0   27124.0  29660.0  30105.0   \n",
       "3   14750.0   12961.0    ...     10920.0  14030.0    8060.0   8430.0   9980.0   \n",
       "4       0.0       0.0    ...      2090.0   2470.0    1145.0   2955.0   3915.0   \n",
       "\n",
       "        f56      f57      f58      f59       f60  \n",
       "0  114561.0  93790.0  98070.0  83980.0  105240.0  \n",
       "1   11548.0   8698.0   8696.0   8160.0    7570.0  \n",
       "2   28054.0  31545.0  28185.0  34890.0   28790.0  \n",
       "3   13930.0   6340.0   7810.0   8960.0   10260.0  \n",
       "4     740.0   2260.0   1403.0   1417.0     980.0  \n",
       "\n",
       "[5 rows x 65 columns]"
      ]
     },
     "execution_count": 13,
     "metadata": {},
     "output_type": "execute_result"
    }
   ],
   "source": [
    "train.head()"
   ]
  },
  {
   "cell_type": "code",
   "execution_count": 102,
   "metadata": {
    "collapsed": false
   },
   "outputs": [],
   "source": [
    "from matplotlib.colors import ListedColormap\n",
    "from sklearn import model_selection, datasets, linear_model, metrics\n",
    "from sklearn.ensemble import GradientBoostingRegressor\n",
    "from sklearn.model_selection import RandomizedSearchCV, GridSearchCV\n",
    "\n",
    "import numpy as np\n",
    "import math\n",
    "import xgboost as xgb\n",
    "import scipy.stats as sps\n",
    "\n",
    "from xgboost.sklearn import XGBRegressor  \n",
    "import pandas as pd\n",
    "import matplotlib.pyplot as plt\n",
    "%matplotlib inline\n",
    "import scipy.optimize as opt"
   ]
  },
  {
   "cell_type": "code",
   "execution_count": 514,
   "metadata": {
    "collapsed": false
   },
   "outputs": [],
   "source": [
    "def clean_data(data):\n",
    "    for i in data.index.values:\n",
    "#         print(data.loc[i])\n",
    "        if pd.isnull(data.loc[i].values.any()):\n",
    "            data = data.drop(i, axis=0)\n",
    "    return data"
   ]
  },
  {
   "cell_type": "code",
   "execution_count": 259,
   "metadata": {
    "collapsed": false
   },
   "outputs": [],
   "source": [
    "train = clean_data(train)"
   ]
  },
  {
   "cell_type": "code",
   "execution_count": 77,
   "metadata": {
    "collapsed": true
   },
   "outputs": [],
   "source": [
    "def process_data(data):\n",
    "    good_train = pd.DataFrame()\n",
    "    created = False\n",
    "    indices = []\n",
    "    for i in data.index.values:\n",
    "        t = data.loc[i]\n",
    "        w = int(t['week'])\n",
    "        y = int(t['year'])\n",
    "        ans = int(t['y'])\n",
    "        iid = int(t['item_id'])\n",
    "        filtered = data.query('item_id == {}'.format(iid)).query('year == {}'.format(y))\n",
    "        filtered= filtered[filtered.apply(lambda x: x['week'] - x['shift'] == w, axis=1)]\n",
    "        if filtered.shape[0] > 0:\n",
    "            if (filtered.shape[0] > 1):\n",
    "                filtered = filtered[0:1]\n",
    "            indices.append(i)\n",
    "            new_row = filtered\n",
    "#             new_row = new_row.reset_index([i]).drop('index', axis=1)\n",
    "#             print(new_row)\n",
    "            new_row = new_row.drop('shift', axis=1)\n",
    "            new_row['week'] = w\n",
    "            new_row['y'] = ans\n",
    "#             new_row = new_row.drop(new_row.columns[0], axis=1)\n",
    "            if created:\n",
    "                good_train = pd.concat((good_train, new_row))\n",
    "            else:\n",
    "                good_train = new_row\n",
    "                created = True\n",
    "#     good_train = good_train.reset_index().drop('index', axis=1)\n",
    "    return good_train, np.array(indices)"
   ]
  },
  {
   "cell_type": "code",
   "execution_count": 15,
   "metadata": {
    "collapsed": false
   },
   "outputs": [],
   "source": [
    "regressor4 = GradientBoostingRegressor(n_estimators=100, max_depth=5, random_state=43)\n",
    "regressor3 = GradientBoostingRegressor(n_estimators=100, max_depth=5, random_state=43)\n"
   ]
  },
  {
   "cell_type": "code",
   "execution_count": 103,
   "metadata": {
    "collapsed": false
   },
   "outputs": [],
   "source": [
    "train_good, indices = process_data(train)"
   ]
  },
  {
   "cell_type": "code",
   "execution_count": 104,
   "metadata": {
    "collapsed": false
   },
   "outputs": [
    {
     "data": {
      "text/plain": [
       "[<matplotlib.lines.Line2D at 0x7fe0674eea20>]"
      ]
     },
     "execution_count": 104,
     "metadata": {},
     "output_type": "execute_result"
    },
    {
     "data": {
      "image/png": "[encoded data removed]",
      "text/plain": [
       "<matplotlib.figure.Figure at 0x7fe084cc0780>"
      ]
     },
     "metadata": {},
     "output_type": "display_data"
    }
   ],
   "source": [
    "f = plt.figure(figsize=(10, 5))\n",
    "plt.plot(range(100), train_good['f30'][0:100], c='r')\n",
    "plt.plot(range(100), train_good['y'][0:100], c ='y')"
   ]
  },
  {
   "cell_type": "markdown",
   "metadata": {},
   "source": [
    "да у нас просто есть ответы в данных! запустим линейную модель на 30-ом признаке. что-то пошло не так, SMAPE 39."
   ]
  },
  {
   "cell_type": "code",
   "execution_count": 11,
   "metadata": {
    "collapsed": false
   },
   "outputs": [
    {
     "data": {
      "text/html": [
       "<div>\n",
       "<table border=\"1\" class=\"dataframe\">\n",
       "  <thead>\n",
       "    <tr style=\"text-align: right;\">\n",
       "      <th></th>\n",
       "      <th>y</th>\n",
       "      <th>year</th>\n",
       "      <th>week</th>\n",
       "      <th>shift</th>\n",
       "      <th>item_id</th>\n",
       "      <th>f1</th>\n",
       "      <th>f2</th>\n",
       "      <th>f3</th>\n",
       "      <th>f4</th>\n",
       "      <th>f5</th>\n",
       "      <th>...</th>\n",
       "      <th>f51</th>\n",
       "      <th>f52</th>\n",
       "      <th>f53</th>\n",
       "      <th>f54</th>\n",
       "      <th>f55</th>\n",
       "      <th>f56</th>\n",
       "      <th>f57</th>\n",
       "      <th>f58</th>\n",
       "      <th>f59</th>\n",
       "      <th>f60</th>\n",
       "    </tr>\n",
       "  </thead>\n",
       "  <tbody>\n",
       "    <tr>\n",
       "      <th>126</th>\n",
       "      <td>82246</td>\n",
       "      <td>2014</td>\n",
       "      <td>10</td>\n",
       "      <td>1</td>\n",
       "      <td>20427450</td>\n",
       "      <td>58042.0</td>\n",
       "      <td>60820.0</td>\n",
       "      <td>63293.0</td>\n",
       "      <td>67251.0</td>\n",
       "      <td>52722.0</td>\n",
       "      <td>...</td>\n",
       "      <td>84338.0</td>\n",
       "      <td>58455.0</td>\n",
       "      <td>22610.0</td>\n",
       "      <td>46451.0</td>\n",
       "      <td>46791.0</td>\n",
       "      <td>64224.0</td>\n",
       "      <td>42540.0</td>\n",
       "      <td>45726.0</td>\n",
       "      <td>53409.0</td>\n",
       "      <td>52905.0</td>\n",
       "    </tr>\n",
       "    <tr>\n",
       "      <th>259</th>\n",
       "      <td>98960</td>\n",
       "      <td>2014</td>\n",
       "      <td>24</td>\n",
       "      <td>2</td>\n",
       "      <td>20427450</td>\n",
       "      <td>30795.0</td>\n",
       "      <td>52521.0</td>\n",
       "      <td>53403.0</td>\n",
       "      <td>75986.0</td>\n",
       "      <td>39886.0</td>\n",
       "      <td>...</td>\n",
       "      <td>57315.0</td>\n",
       "      <td>56865.0</td>\n",
       "      <td>55586.0</td>\n",
       "      <td>52972.0</td>\n",
       "      <td>58383.0</td>\n",
       "      <td>76614.0</td>\n",
       "      <td>60869.0</td>\n",
       "      <td>59450.0</td>\n",
       "      <td>65365.0</td>\n",
       "      <td>83152.0</td>\n",
       "    </tr>\n",
       "    <tr>\n",
       "      <th>605</th>\n",
       "      <td>123348</td>\n",
       "      <td>2014</td>\n",
       "      <td>18</td>\n",
       "      <td>2</td>\n",
       "      <td>20427450</td>\n",
       "      <td>64234.0</td>\n",
       "      <td>54075.0</td>\n",
       "      <td>50841.0</td>\n",
       "      <td>55680.0</td>\n",
       "      <td>53272.0</td>\n",
       "      <td>...</td>\n",
       "      <td>45726.0</td>\n",
       "      <td>53409.0</td>\n",
       "      <td>52905.0</td>\n",
       "      <td>51085.0</td>\n",
       "      <td>44700.0</td>\n",
       "      <td>53110.0</td>\n",
       "      <td>57315.0</td>\n",
       "      <td>56865.0</td>\n",
       "      <td>55586.0</td>\n",
       "      <td>52972.0</td>\n",
       "    </tr>\n",
       "    <tr>\n",
       "      <th>673</th>\n",
       "      <td>85507</td>\n",
       "      <td>2014</td>\n",
       "      <td>12</td>\n",
       "      <td>2</td>\n",
       "      <td>20427450</td>\n",
       "      <td>60820.0</td>\n",
       "      <td>63293.0</td>\n",
       "      <td>67251.0</td>\n",
       "      <td>52722.0</td>\n",
       "      <td>52625.0</td>\n",
       "      <td>...</td>\n",
       "      <td>58455.0</td>\n",
       "      <td>22610.0</td>\n",
       "      <td>46451.0</td>\n",
       "      <td>46791.0</td>\n",
       "      <td>64224.0</td>\n",
       "      <td>42540.0</td>\n",
       "      <td>45726.0</td>\n",
       "      <td>53409.0</td>\n",
       "      <td>52905.0</td>\n",
       "      <td>51085.0</td>\n",
       "    </tr>\n",
       "  </tbody>\n",
       "</table>\n",
       "<p>4 rows × 65 columns</p>\n",
       "</div>"
      ],
      "text/plain": [
       "          y  year  week  shift   item_id       f1       f2       f3       f4  \\\n",
       "126   82246  2014    10      1  20427450  58042.0  60820.0  63293.0  67251.0   \n",
       "259   98960  2014    24      2  20427450  30795.0  52521.0  53403.0  75986.0   \n",
       "605  123348  2014    18      2  20427450  64234.0  54075.0  50841.0  55680.0   \n",
       "673   85507  2014    12      2  20427450  60820.0  63293.0  67251.0  52722.0   \n",
       "\n",
       "          f5   ...         f51      f52      f53      f54      f55      f56  \\\n",
       "126  52722.0   ...     84338.0  58455.0  22610.0  46451.0  46791.0  64224.0   \n",
       "259  39886.0   ...     57315.0  56865.0  55586.0  52972.0  58383.0  76614.0   \n",
       "605  53272.0   ...     45726.0  53409.0  52905.0  51085.0  44700.0  53110.0   \n",
       "673  52625.0   ...     58455.0  22610.0  46451.0  46791.0  64224.0  42540.0   \n",
       "\n",
       "         f57      f58      f59      f60  \n",
       "126  42540.0  45726.0  53409.0  52905.0  \n",
       "259  60869.0  59450.0  65365.0  83152.0  \n",
       "605  57315.0  56865.0  55586.0  52972.0  \n",
       "673  45726.0  53409.0  52905.0  51085.0  \n",
       "\n",
       "[4 rows x 65 columns]"
      ]
     },
     "execution_count": 11,
     "metadata": {},
     "output_type": "execute_result"
    }
   ],
   "source": [
    "train.query('year==2014').query('item_id==20427450')"
   ]
  },
  {
   "cell_type": "code",
   "execution_count": 105,
   "metadata": {
    "collapsed": false
   },
   "outputs": [],
   "source": [
    "train_y = train_good['y']\n",
    "train_x = train_good.drop('y', axis=1)"
   ]
  },
  {
   "cell_type": "code",
   "execution_count": 106,
   "metadata": {
    "collapsed": false
   },
   "outputs": [],
   "source": [
    "train_x_bad = train.drop('y', axis=1)\n",
    "train_y_bad = train['y']"
   ]
  },
  {
   "cell_type": "code",
   "execution_count": 107,
   "metadata": {
    "collapsed": false
   },
   "outputs": [
    {
     "data": {
      "text/plain": [
       "(14491,)"
      ]
     },
     "execution_count": 107,
     "metadata": {},
     "output_type": "execute_result"
    }
   ],
   "source": [
    "train_y_bad.shape"
   ]
  },
  {
   "cell_type": "code",
   "execution_count": 108,
   "metadata": {
    "collapsed": false
   },
   "outputs": [
    {
     "data": {
      "text/plain": [
       "(14491,)"
      ]
     },
     "execution_count": 108,
     "metadata": {},
     "output_type": "execute_result"
    }
   ],
   "source": [
    "train_y_bad.shape"
   ]
  },
  {
   "cell_type": "code",
   "execution_count": 109,
   "metadata": {
    "collapsed": false
   },
   "outputs": [
    {
     "data": {
      "text/plain": [
       "(6575, 63)"
      ]
     },
     "execution_count": 109,
     "metadata": {},
     "output_type": "execute_result"
    }
   ],
   "source": [
    "train_x.shape"
   ]
  },
  {
   "cell_type": "code",
   "execution_count": 110,
   "metadata": {
    "collapsed": true
   },
   "outputs": [],
   "source": [
    "train_y_log = np.array([math.log(y_i) for y_i in train_y])"
   ]
  },
  {
   "cell_type": "code",
   "execution_count": 111,
   "metadata": {
    "collapsed": true
   },
   "outputs": [],
   "source": [
    "train_y_bad_log = np.array([math.log(y_i) for y_i in train_y_bad])"
   ]
  },
  {
   "cell_type": "code",
   "execution_count": 112,
   "metadata": {
    "collapsed": true
   },
   "outputs": [],
   "source": [
    "train_x_feauture = pd.DataFrame(train_x['f30'])"
   ]
  },
  {
   "cell_type": "code",
   "execution_count": 87,
   "metadata": {
    "collapsed": false
   },
   "outputs": [
    {
     "data": {
      "text/plain": [
       "LinearRegression(copy_X=True, fit_intercept=True, n_jobs=1, normalize=False)"
      ]
     },
     "execution_count": 87,
     "metadata": {},
     "output_type": "execute_result"
    }
   ],
   "source": [
    "linreg = linear_model.LinearRegression()\n",
    "linreg.fit(train_x_feauture, train_y_log)"
   ]
  },
  {
   "cell_type": "code",
   "execution_count": 113,
   "metadata": {
    "collapsed": false
   },
   "outputs": [
    {
     "data": {
      "text/plain": [
       "XGBRegressor(base_score=0.5, colsample_bylevel=1, colsample_bytree=1, gamma=0,\n",
       "       learning_rate=0.1, max_delta_step=0, max_depth=5,\n",
       "       min_child_weight=1, missing=None, n_estimators=100, nthread=-1,\n",
       "       objective='reg:linear', reg_alpha=0, reg_lambda=1,\n",
       "       scale_pos_weight=1, seed=0, silent=True, subsample=1)"
      ]
     },
     "execution_count": 113,
     "metadata": {},
     "output_type": "execute_result"
    }
   ],
   "source": [
    "regressor7 = XGBRegressor(max_depth=5, n_estimators=100)\n",
    "regressor7 .fit(train_x_feauture, train_y_log)"
   ]
  },
  {
   "cell_type": "code",
   "execution_count": 32,
   "metadata": {
    "collapsed": false
   },
   "outputs": [],
   "source": [
    "cv_params = {'max_depth': [3,5,7],'n_estimators': [70, 80, 100]}\n",
    "ind_params = {'learning_rate': 0.1, 'seed':0, 'subsample': 0.8, 'colsample_bytree': 0.8, \n",
    "             'objective': 'reg:linear'}"
   ]
  },
  {
   "cell_type": "code",
   "execution_count": 33,
   "metadata": {
    "collapsed": false
   },
   "outputs": [],
   "source": [
    "xgbreg = XGBRegressor(**ind_params)"
   ]
  },
  {
   "cell_type": "code",
   "execution_count": 121,
   "metadata": {
    "collapsed": false
   },
   "outputs": [
    {
     "data": {
      "text/plain": [
       "XGBRegressor(base_score=0.5, colsample_bylevel=1, colsample_bytree=1, gamma=0,\n",
       "       learning_rate=0.1, max_delta_step=0, max_depth=5,\n",
       "       min_child_weight=1, missing=None, n_estimators=100, nthread=-1,\n",
       "       objective='reg:linear', reg_alpha=0, reg_lambda=1,\n",
       "       scale_pos_weight=1, seed=0, silent=True, subsample=1)"
      ]
     },
     "execution_count": 121,
     "metadata": {},
     "output_type": "execute_result"
    }
   ],
   "source": [
    "regressor5 = XGBRegressor(max_depth=5, n_estimators=100)\n",
    "regressor5 .fit(train_x, train_y_log)"
   ]
  },
  {
   "cell_type": "code",
   "execution_count": 122,
   "metadata": {
    "collapsed": false
   },
   "outputs": [
    {
     "data": {
      "text/plain": [
       "XGBRegressor(base_score=0.5, colsample_bylevel=1, colsample_bytree=1, gamma=0,\n",
       "       learning_rate=0.1, max_delta_step=0, max_depth=5,\n",
       "       min_child_weight=1, missing=None, n_estimators=100, nthread=-1,\n",
       "       objective='reg:linear', reg_alpha=0, reg_lambda=1,\n",
       "       scale_pos_weight=1, seed=0, silent=True, subsample=1)"
      ]
     },
     "execution_count": 122,
     "metadata": {},
     "output_type": "execute_result"
    }
   ],
   "source": [
    "regressor6 = XGBRegressor(max_depth=5, n_estimators=100)\n",
    "regressor6 .fit(train_x_bad, train_y_bad_log)"
   ]
  },
  {
   "cell_type": "code",
   "execution_count": 201,
   "metadata": {
    "collapsed": false
   },
   "outputs": [
    {
     "data": {
      "text/plain": [
       "GridSearchCV(cv=None, error_score='raise',\n",
       "       estimator=XGBRegressor(base_score=0.5, colsample_bylevel=1, colsample_bytree=0.8,\n",
       "       gamma=0, learning_rate=0.1, max_delta_step=0, max_depth=3,\n",
       "       min_child_weight=1, missing=None, n_estimators=100, nthread=-1,\n",
       "       objective='reg:linear', reg_alpha=0, reg_lambda=1,\n",
       "       scale_pos_weight=1, seed=0, silent=True, subsample=0.8),\n",
       "       fit_params={}, iid=True, n_jobs=1,\n",
       "       param_grid={'n_estimators': [70, 80, 100], 'min_child_weight': [1, 3, 5], 'max_depth': [3, 5, 7]},\n",
       "       pre_dispatch='2*n_jobs', refit=True, return_train_score=True,\n",
       "       scoring=make_scorer(mean_absolute_error), verbose=0)"
      ]
     },
     "execution_count": 201,
     "metadata": {},
     "output_type": "execute_result"
    }
   ],
   "source": [
    "gs1 = GridSearchCV(xgbreg, cv_params, scoring=metrics.make_scorer(metrics.mean_absolute_error))\n",
    "gs1.fit(train_x, train_y_log)"
   ]
  },
  {
   "cell_type": "code",
   "execution_count": 202,
   "metadata": {
    "collapsed": false
   },
   "outputs": [
    {
     "data": {
      "text/plain": [
       "GridSearchCV(cv=None, error_score='raise',\n",
       "       estimator=XGBRegressor(base_score=0.5, colsample_bylevel=1, colsample_bytree=0.8,\n",
       "       gamma=0, learning_rate=0.1, max_delta_step=0, max_depth=3,\n",
       "       min_child_weight=1, missing=None, n_estimators=100, nthread=-1,\n",
       "       objective='reg:linear', reg_alpha=0, reg_lambda=1,\n",
       "       scale_pos_weight=1, seed=0, silent=True, subsample=0.8),\n",
       "       fit_params={}, iid=True, n_jobs=1,\n",
       "       param_grid={'n_estimators': [70, 80, 100], 'min_child_weight': [1, 3, 5], 'max_depth': [3, 5, 7]},\n",
       "       pre_dispatch='2*n_jobs', refit=True, return_train_score=True,\n",
       "       scoring=None, verbose=0)"
      ]
     },
     "execution_count": 202,
     "metadata": {},
     "output_type": "execute_result"
    }
   ],
   "source": [
    "gs2 = GridSearchCV(xgbreg, cv_params, n_jobs=1) \n",
    "gs2.fit(train_x_bad, train_y_bad_log)"
   ]
  },
  {
   "cell_type": "code",
   "execution_count": 208,
   "metadata": {
    "collapsed": false
   },
   "outputs": [
    {
     "data": {
      "text/plain": [
       "GridSearchCV(cv=None, error_score='raise',\n",
       "       estimator=GradientBoostingRegressor(alpha=0.9, criterion='friedman_mse', init=None,\n",
       "             learning_rate=0.1, loss='ls', max_depth=3, max_features=None,\n",
       "             max_leaf_nodes=None, min_impurity_split=1e-07,\n",
       "             min_samples_leaf=1, min_samples_split=2,\n",
       "             min_weight_fraction_leaf=0.0, n_estimators=100,\n",
       "             presort='auto', random_state=None, subsample=1.0, verbose=0,\n",
       "             warm_start=False),\n",
       "       fit_params={}, iid=True, n_jobs=1,\n",
       "       param_grid={'n_estimators': [70, 80, 100], 'max_depth': [3, 5, 7]},\n",
       "       pre_dispatch='2*n_jobs', refit=True, return_train_score=True,\n",
       "       scoring=make_scorer(mean_absolute_error), verbose=0)"
      ]
     },
     "execution_count": 208,
     "metadata": {},
     "output_type": "execute_result"
    }
   ],
   "source": [
    "regressor4 = GradientBoostingRegressor()\n",
    "gs4 = GridSearchCV(regressor4, cv_params, scoring=metrics.make_scorer(metrics.mean_absolute_error))\n",
    "gs4.fit(train_x, train_y_log)\n",
    "# regressor4.fit(train_x_bad, train_y_bad_log)"
   ]
  },
  {
   "cell_type": "code",
   "execution_count": 221,
   "metadata": {
    "collapsed": false
   },
   "outputs": [
    {
     "data": {
      "text/plain": [
       "GradientBoostingRegressor(alpha=0.9, criterion='friedman_mse', init=None,\n",
       "             learning_rate=0.1, loss='ls', max_depth=5, max_features=None,\n",
       "             max_leaf_nodes=None, min_impurity_split=1e-07,\n",
       "             min_samples_leaf=1, min_samples_split=2,\n",
       "             min_weight_fraction_leaf=0.0, n_estimators=100,\n",
       "             presort='auto', random_state=None, subsample=1.0, verbose=0,\n",
       "             warm_start=False)"
      ]
     },
     "execution_count": 221,
     "metadata": {},
     "output_type": "execute_result"
    }
   ],
   "source": [
    "regressor4 = GradientBoostingRegressor(max_depth=5, n_estimators=100)\n",
    "regressor4 .fit(train_x, train_y_log)"
   ]
  },
  {
   "cell_type": "code",
   "execution_count": 224,
   "metadata": {
    "collapsed": false
   },
   "outputs": [
    {
     "data": {
      "text/plain": [
       "GradientBoostingRegressor(alpha=0.9, criterion='friedman_mse', init=None,\n",
       "             learning_rate=0.1, loss='ls', max_depth=5, max_features=None,\n",
       "             max_leaf_nodes=None, min_impurity_split=1e-07,\n",
       "             min_samples_leaf=1, min_samples_split=2,\n",
       "             min_weight_fraction_leaf=0.0, n_estimators=100,\n",
       "             presort='auto', random_state=None, subsample=1.0, verbose=0,\n",
       "             warm_start=False)"
      ]
     },
     "execution_count": 224,
     "metadata": {},
     "output_type": "execute_result"
    }
   ],
   "source": [
    "regressor3 = GradientBoostingRegressor(max_depth=5, n_estimators=100)\n",
    "regressor3 .fit(train_x_bad, train_y_bad_log)"
   ]
  },
  {
   "cell_type": "code",
   "execution_count": 209,
   "metadata": {
    "collapsed": false
   },
   "outputs": [
    {
     "data": {
      "text/plain": [
       "GridSearchCV(cv=None, error_score='raise',\n",
       "       estimator=GradientBoostingRegressor(alpha=0.9, criterion='friedman_mse', init=None,\n",
       "             learning_rate=0.1, loss='ls', max_depth=3, max_features=None,\n",
       "             max_leaf_nodes=None, min_impurity_split=1e-07,\n",
       "             min_samples_leaf=1, min_samples_split=2,\n",
       "             min_weight_fraction_leaf=0.0, n_estimators=100,\n",
       "             presort='auto', random_state=None, subsample=1.0, verbose=0,\n",
       "             warm_start=False),\n",
       "       fit_params={}, iid=True, n_jobs=1,\n",
       "       param_grid={'n_estimators': [70, 80, 100], 'max_depth': [3, 5, 7]},\n",
       "       pre_dispatch='2*n_jobs', refit=True, return_train_score=True,\n",
       "       scoring=make_scorer(mean_absolute_error), verbose=0)"
      ]
     },
     "execution_count": 209,
     "metadata": {},
     "output_type": "execute_result"
    }
   ],
   "source": [
    "regressor3 = GradientBoostingRegressor()\n",
    "gs3 = GridSearchCV(regressor4, cv_params, scoring=metrics.make_scorer(metrics.mean_absolute_error))\n",
    "gs3.fit(train_x_bad, train_y_bad_log)\n",
    "# regressor3 = GradientBoostingRegressor(n_estimators=100, max_depth=5, random_state=43)\n",
    "# regressor3.fit(train_x, train_y_log)"
   ]
  },
  {
   "cell_type": "code",
   "execution_count": 43,
   "metadata": {
    "collapsed": true
   },
   "outputs": [],
   "source": [
    "def combine_solutions(cool_reg, simple_reg, test, processed_test, processed_indices):\n",
    "    y = simple_reg.predict(test)\n",
    "    cool_y = cool_reg.predict(processed_test)\n",
    "    for i, ind in enumerate(processed_indices):\n",
    "        y[ind] = cool_y[i]\n",
    "    return y"
   ]
  },
  {
   "cell_type": "code",
   "execution_count": 48,
   "metadata": {
    "collapsed": true
   },
   "outputs": [],
   "source": [
    "def combine_solutions_feature(cool_reg, simple_reg, test, processed_test, processed_indices):\n",
    "    y = simple_reg.predict(test)\n",
    "    processed_test_feature = pd.DataFrame(processed_test['f30'])\n",
    "    cool_y = cool_reg.predict( processed_test_feature)\n",
    "    for i, ind in enumerate(processed_indices):\n",
    "        y[ind] = cool_y[i]\n",
    "    return y"
   ]
  },
  {
   "cell_type": "code",
   "execution_count": 44,
   "metadata": {
    "collapsed": true
   },
   "outputs": [],
   "source": [
    "def process_test(data):\n",
    "    good_train = pd.DataFrame()\n",
    "    created = False\n",
    "    indices = []\n",
    "    for i in data.index.values:\n",
    "        t = data.loc[i]\n",
    "        w = int(t['week'])\n",
    "        y = int(t['year'])\n",
    "        iid = int(t['item_id'])\n",
    "        filtered = data.query('item_id == {}'.format(iid)).query('year == {}'.format(y))\n",
    "        filtered= filtered[filtered.apply(lambda x: x['week'] - x['shift'] == w, axis=1)]\n",
    "        if filtered.shape[0] > 0:\n",
    "            if (filtered.shape[0] > 1):\n",
    "                filtered = filtered[0:1]\n",
    "            indices.append(i)\n",
    "            new_row = filtered\n",
    "#             new_row = new_row.reset_index([i]).drop('index', axis=1)\n",
    "#             print(new_row)\n",
    "            new_row = new_row.drop('shift', axis=1)\n",
    "            new_row['week'] = w\n",
    "#             new_row = new_row.drop(new_row.columns[0], axis=1)\n",
    "            if created:\n",
    "                good_train = pd.concat((good_train, new_row))\n",
    "            else:\n",
    "                good_train = new_row\n",
    "                created = True\n",
    "#     good_train = good_train.reset_index().drop('index', axis=1)\n",
    "    return good_train, np.array(indices)"
   ]
  },
  {
   "cell_type": "code",
   "execution_count": 64,
   "metadata": {
    "collapsed": true
   },
   "outputs": [],
   "source": [
    "test = train[0:2000].drop('y', axis=1).reset_index().drop('index', axis=1)"
   ]
  },
  {
   "cell_type": "code",
   "execution_count": 65,
   "metadata": {
    "collapsed": false
   },
   "outputs": [],
   "source": [
    "test_x, indices_test = process_test(test)"
   ]
  },
  {
   "cell_type": "code",
   "execution_count": 225,
   "metadata": {
    "collapsed": false
   },
   "outputs": [],
   "source": [
    "y_final = combine_solutions(regressor4, regressor3, test, test_x, indices_test)\n",
    "y_final = np.array([math.exp(y_i) for y_i in y_final])"
   ]
  },
  {
   "cell_type": "code",
   "execution_count": 218,
   "metadata": {
    "collapsed": false
   },
   "outputs": [],
   "source": [
    "y2_final = combine_solutions(gs1, gs3, test, test_x, indices_test)\n",
    "y2_final = np.array([math.exp(y_i) for y_i in y2_final])"
   ]
  },
  {
   "cell_type": "code",
   "execution_count": 123,
   "metadata": {
    "collapsed": false
   },
   "outputs": [],
   "source": [
    "y3_final = combine_solutions(regressor5, regressor6, test, test_x, indices_test)\n",
    "y3_final = np.array([math.exp(y_i) for y_i in y3_final])"
   ]
  },
  {
   "cell_type": "code",
   "execution_count": 89,
   "metadata": {
    "collapsed": false
   },
   "outputs": [],
   "source": [
    "y4_final = combine_solutions_feature(linreg, regressor6, test, test_x, indices_test)\n",
    "y4_final = np.array([math.exp(y_i) for y_i in y4_final])"
   ]
  },
  {
   "cell_type": "code",
   "execution_count": 118,
   "metadata": {
    "collapsed": true
   },
   "outputs": [],
   "source": [
    "y5_final = combine_solutions_feature(regressor7, regressor6, test, test_x, indices_test)\n",
    "y5_final = np.array([math.exp(y_i) for y_i in y5_final])"
   ]
  },
  {
   "cell_type": "code",
   "execution_count": 124,
   "metadata": {
    "collapsed": true
   },
   "outputs": [],
   "source": [
    "sample_submission['y'] = y3_final"
   ]
  },
  {
   "cell_type": "code",
   "execution_count": 125,
   "metadata": {
    "collapsed": true
   },
   "outputs": [],
   "source": [
    "sample_submission.to_csv(\"my_submission_log_xgb.tsv\", sep=',', index=False)"
   ]
  },
  {
   "cell_type": "code",
   "execution_count": 82,
   "metadata": {
    "collapsed": false
   },
   "outputs": [],
   "source": [
    "train_x_check, train_indices_check = process_test(train_x_bad[0:1000])"
   ]
  },
  {
   "cell_type": "code",
   "execution_count": 66,
   "metadata": {
    "collapsed": true
   },
   "outputs": [],
   "source": [
    "y_real = train[0:2000]['y']"
   ]
  },
  {
   "cell_type": "code",
   "execution_count": 93,
   "metadata": {
    "collapsed": true
   },
   "outputs": [],
   "source": [
    "pred = combine_solutions(gs1, gs2, train_x_bad[0:1000], train_x_check, train_indices_check)"
   ]
  },
  {
   "cell_type": "code",
   "execution_count": 94,
   "metadata": {
    "collapsed": false
   },
   "outputs": [],
   "source": [
    "pred2 = combine_solutions(regressor3, regressor4, train_x_bad[0:1000], train_x_check, train_indices_check)"
   ]
  },
  {
   "cell_type": "code",
   "execution_count": 226,
   "metadata": {
    "collapsed": false
   },
   "outputs": [
    {
     "data": {
      "text/plain": [
       "21124.200013660262"
      ]
     },
     "execution_count": 226,
     "metadata": {},
     "output_type": "execute_result"
    }
   ],
   "source": [
    "metrics.mean_absolute_error(y_final, y_real)"
   ]
  },
  {
   "cell_type": "code",
   "execution_count": 219,
   "metadata": {
    "collapsed": false
   },
   "outputs": [
    {
     "data": {
      "text/plain": [
       "28695.494061718658"
      ]
     },
     "execution_count": 219,
     "metadata": {},
     "output_type": "execute_result"
    }
   ],
   "source": [
    "metrics.mean_absolute_error(y2_final, y_real)"
   ]
  },
  {
   "cell_type": "code",
   "execution_count": 73,
   "metadata": {
    "collapsed": false
   },
   "outputs": [
    {
     "data": {
      "text/plain": [
       "31471.102919226669"
      ]
     },
     "execution_count": 73,
     "metadata": {},
     "output_type": "execute_result"
    }
   ],
   "source": [
    "metrics.mean_absolute_error(y4_final, y_real)"
   ]
  },
  {
   "cell_type": "code",
   "execution_count": null,
   "metadata": {
    "collapsed": true
   },
   "outputs": [],
   "source": []
  }
 ],
 "metadata": {
  "kernelspec": {
   "display_name": "simplepython3",
   "language": "python",
   "name": "simplepython3"
  },
  "language_info": {
   "codemirror_mode": {
    "name": "ipython",
    "version": 3
   },
   "file_extension": ".py",
   "mimetype": "text/x-python",
   "name": "python",
   "nbconvert_exporter": "python",
   "pygments_lexer": "ipython3",
   "version": "3.5.2"
  }
 },
 "nbformat": 4,
 "nbformat_minor": 2
}
