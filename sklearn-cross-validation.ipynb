{
 "cells": [
  {
   "cell_type": "markdown",
   "metadata": {},
   "source": [
    "# Sklearn"
   ]
  },
  {
   "cell_type": "markdown",
   "metadata": {},
   "source": [
    "## sklearn.cross_validation"
   ]
  },
  {
   "cell_type": "markdown",
   "metadata": {},
   "source": [
    "документация: http://scikit-learn.org/stable/modules/cross_validation.html"
   ]
  },
  {
   "cell_type": "code",
   "execution_count": 1,
   "metadata": {
    "collapsed": false
   },
   "outputs": [
    {
     "name": "stderr",
     "output_type": "stream",
     "text": [
      "/home/valeriyasin/anaconda3/envs/python2/lib/python2.7/site-packages/sklearn/cross_validation.py:44: DeprecationWarning: This module was deprecated in version 0.18 in favor of the model_selection module into which all the refactored classes and functions are moved. Also note that the interface of the new CV iterators are different from that of this module. This module will be removed in 0.20.\n",
      "  \"This module will be removed in 0.20.\", DeprecationWarning)\n"
     ]
    }
   ],
   "source": [
    "from sklearn import cross_validation, datasets\n",
    "\n",
    "import numpy as np"
   ]
  },
  {
   "cell_type": "markdown",
   "metadata": {},
   "source": [
    "### Разовое разбиение данных на обучение и тест с помощью train_test_split"
   ]
  },
  {
   "cell_type": "code",
   "execution_count": 2,
   "metadata": {
    "collapsed": true
   },
   "outputs": [],
   "source": [
    "from sklearn import model_selection"
   ]
  },
  {
   "cell_type": "code",
   "execution_count": 3,
   "metadata": {
    "collapsed": false
   },
   "outputs": [],
   "source": [
    "iris = datasets.load_iris()"
   ]
  },
  {
   "cell_type": "code",
   "execution_count": 4,
   "metadata": {
    "collapsed": false
   },
   "outputs": [],
   "source": [
    "train_data, test_data, train_labels, test_labels = model_selection.train_test_split(iris.data, iris.target, \n",
    "                                                                                     test_size = 0.3)"
   ]
  },
  {
   "cell_type": "code",
   "execution_count": 5,
   "metadata": {
    "collapsed": false
   },
   "outputs": [
    {
     "data": {
      "text/plain": [
       "0.3"
      ]
     },
     "execution_count": 5,
     "metadata": {},
     "output_type": "execute_result"
    }
   ],
   "source": [
    "#убедимся, что тестовая выборка действительно составляет 0.3 от всех данных\n",
    "float(len(test_labels))/len(iris.data)"
   ]
  },
  {
   "cell_type": "code",
   "execution_count": 6,
   "metadata": {
    "collapsed": false
   },
   "outputs": [
    {
     "name": "stdout",
     "output_type": "stream",
     "text": [
      "Размер обучающей выборки: 105 объектов \n",
      "Размер тестовой выборки: 45 объектов\n"
     ]
    }
   ],
   "source": [
    "print 'Размер обучающей выборки: {} объектов \\nРазмер тестовой выборки: {} объектов'.format(len(train_data),\n",
    "                                                                                            len(test_data))"
   ]
  },
  {
   "cell_type": "code",
   "execution_count": 7,
   "metadata": {
    "collapsed": false
   },
   "outputs": [
    {
     "name": "stdout",
     "output_type": "stream",
     "text": [
      "Обучающая выборка:\n",
      "[[ 7.   3.2  4.7  1.4]\n",
      " [ 7.6  3.   6.6  2.1]\n",
      " [ 6.1  2.8  4.7  1.2]\n",
      " [ 4.8  3.1  1.6  0.2]\n",
      " [ 6.8  2.8  4.8  1.4]]\n",
      "\n",
      "\n",
      "Тестовая выборка:\n",
      "[[ 6.5  3.   5.8  2.2]\n",
      " [ 6.4  3.1  5.5  1.8]\n",
      " [ 5.   3.5  1.6  0.6]\n",
      " [ 6.3  3.3  4.7  1.6]\n",
      " [ 4.8  3.   1.4  0.3]]\n"
     ]
    }
   ],
   "source": [
    "print 'Обучающая выборка:\\n', train_data[:5]\n",
    "print '\\n'\n",
    "print 'Тестовая выборка:\\n', test_data[:5]"
   ]
  },
  {
   "cell_type": "code",
   "execution_count": 8,
   "metadata": {
    "collapsed": false
   },
   "outputs": [
    {
     "name": "stdout",
     "output_type": "stream",
     "text": [
      "Метки классов на обучающей выборке:\n",
      "[1 2 1 0 1 1 0 2 0 1 1 0 2 2 2 2 0 2 1 0 2 0 1 1 1 2 0 1 2 1 1 1 1 0 0 0 1\n",
      " 1 1 0 0 0 1 0 0 2 2 1 1 0 0 2 2 0 0 2 0 2 2 2 2 0 2 2 0 2 2 2 2 2 1 2 0 0\n",
      " 2 1 1 1 1 1 0 2 1 2 1 1 0 2 1 0 1 2 2 0 2 0 0 1 1 1 1 2 1 1 0]\n",
      "\n",
      "\n",
      "Метки классов на тестовой выборке:\n",
      "[2 2 0 1 0 1 2 2 0 1 1 1 2 1 2 2 1 0 2 1 0 0 0 0 0 0 2 2 2 1 2 0 2 2 0 0 0\n",
      " 2 0 0 0 0 1 1 1]\n"
     ]
    }
   ],
   "source": [
    "print 'Метки классов на обучающей выборке:\\n', train_labels\n",
    "print '\\n'\n",
    "print 'Метки классов на тестовой выборке:\\n', test_labels"
   ]
  },
  {
   "cell_type": "markdown",
   "metadata": {},
   "source": [
    "### Стратегии проведения кросс-валидации"
   ]
  },
  {
   "cell_type": "markdown",
   "metadata": {},
   "source": [
    "#### KFold"
   ]
  },
  {
   "cell_type": "code",
   "execution_count": 18,
   "metadata": {
    "collapsed": false
   },
   "outputs": [
    {
     "name": "stdout",
     "output_type": "stream",
     "text": [
      "[2 3 4 5 6 7 8 9] [0 1]\n",
      "[0 1 4 5 6 7 8 9] [2 3]\n",
      "[0 1 2 3 6 7 8 9] [4 5]\n",
      "[0 1 2 3 4 5 8 9] [6 7]\n",
      "[0 1 2 3 4 5 6 7] [8 9]\n"
     ]
    }
   ],
   "source": [
    "\n",
    "for train_indices, test_indices in model_selection.KFold(n_splits = 5,random_state=None, shuffle=False).split(np.arange(10)):\n",
    "    print train_indices, test_indices"
   ]
  },
  {
   "cell_type": "code",
   "execution_count": 24,
   "metadata": {
    "collapsed": false
   },
   "outputs": [
    {
     "name": "stdout",
     "output_type": "stream",
     "text": [
      "[1 3 4 5 6] [0 2 7 8 9]\n",
      "[0 2 7 8 9] [1 3 4 5 6]\n"
     ]
    }
   ],
   "source": [
    "#многократный запуск приводит к различным разбиениям\n",
    "for train_indices, test_indices in model_selection.KFold(n_splits = 2,random_state=None, shuffle=True).split(np.arange(10)):\n",
    "    print train_indices, test_indices"
   ]
  },
  {
   "cell_type": "code",
   "execution_count": 25,
   "metadata": {
    "collapsed": false
   },
   "outputs": [
    {
     "name": "stdout",
     "output_type": "stream",
     "text": [
      "[1 3 5 7 8] [0 2 4 6 9]\n",
      "[0 2 4 6 9] [1 3 5 7 8]\n"
     ]
    }
   ],
   "source": [
    "#многократный запуск приводит к одному и  тому же разбиению, результат запуска детерминированный\n",
    "for train_indices, test_indices in model_selection.KFold(n_splits = 2,random_state=1, shuffle=True).split(np.arange(10)):\n",
    "    print train_indices, test_indices"
   ]
  },
  {
   "cell_type": "markdown",
   "metadata": {},
   "source": [
    "#### StratifiedKFold"
   ]
  },
  {
   "cell_type": "code",
   "execution_count": 28,
   "metadata": {
    "collapsed": false
   },
   "outputs": [
    {
     "name": "stdout",
     "output_type": "stream",
     "text": [
      "[0 0 0 0 0 1 1 1 1 1]\n",
      "[3 4 8 9] [0 1 2 5 6 7]\n",
      "[0 1 2 5 6 7] [3 4 8 9]\n"
     ]
    }
   ],
   "source": [
    "target = np.array([0] * 5 + [1] * 5)\n",
    "print target\n",
    "for train_indices, test_indices in model_selection.StratifiedKFold(n_splits = 2, shuffle = True, random_state = 0).split(target, target):\n",
    "    print train_indices, test_indices"
   ]
  },
  {
   "cell_type": "code",
   "execution_count": 29,
   "metadata": {
    "collapsed": false
   },
   "outputs": [
    {
     "name": "stdout",
     "output_type": "stream",
     "text": [
      "[0 1 0 1 0 1 0 1 0 1]\n",
      "[1 2 7 8] [0 3 4 5 6 9]\n",
      "[0 3 4 5 6 9] [1 2 7 8]\n"
     ]
    }
   ],
   "source": [
    "target = np.array([0, 1] * 5)\n",
    "print target\n",
    "for train_indices, test_indices in model_selection.StratifiedKFold(n_splits = 2,shuffle = True).split(target, target):\n",
    "    print train_indices, test_indices"
   ]
  },
  {
   "cell_type": "markdown",
   "metadata": {},
   "source": [
    "#### ShuffleSplit"
   ]
  },
  {
   "cell_type": "code",
   "execution_count": 30,
   "metadata": {
    "collapsed": false
   },
   "outputs": [
    {
     "name": "stdout",
     "output_type": "stream",
     "text": [
      "[3 6 7 5 4 0 9 8] [1 2]\n",
      "[3 9 4 7 2 6 5 8] [1 0]\n",
      "[1 4 5 9 3 8 2 7] [6 0]\n",
      "[6 1 4 8 0 5 7 2] [3 9]\n",
      "[1 6 2 5 3 0 7 8] [4 9]\n",
      "[9 0 6 8 7 3 5 2] [1 4]\n",
      "[2 5 7 1 4 8 9 6] [0 3]\n",
      "[4 1 8 0 3 7 5 6] [9 2]\n",
      "[4 9 0 7 6 1 3 2] [8 5]\n",
      "[8 2 7 4 1 0 5 9] [3 6]\n"
     ]
    }
   ],
   "source": [
    "for train_indices, test_indices in model_selection.ShuffleSplit(n_splits=10,test_size = 0.2).split(np.arange(10)):\n",
    "    print train_indices, test_indices"
   ]
  },
  {
   "cell_type": "markdown",
   "metadata": {},
   "source": [
    "#### StratifiedShuffleSplit"
   ]
  },
  {
   "cell_type": "code",
   "execution_count": 34,
   "metadata": {
    "collapsed": false
   },
   "outputs": [
    {
     "name": "stdout",
     "output_type": "stream",
     "text": [
      "[0 0 0 0 0 1 1 1 1 1]\n",
      "[1 5 8 3 6 2 9 0] [4 7]\n",
      "[0 8 2 6 5 7 3 4] [9 1]\n",
      "[9 8 5 6 0 2 1 3] [4 7]\n",
      "[2 3 0 6 8 4 7 5] [1 9]\n"
     ]
    }
   ],
   "source": [
    "target = np.array([0] * 5 + [1] * 5)\n",
    "print target\n",
    "for train_indices, test_indices in model_selection.StratifiedShuffleSplit(n_splits = 4, test_size = 0.2).split(target, target):\n",
    "    print train_indices, test_indices"
   ]
  },
  {
   "cell_type": "markdown",
   "metadata": {},
   "source": [
    "#### Leave-One-Out"
   ]
  },
  {
   "cell_type": "code",
   "execution_count": 36,
   "metadata": {
    "collapsed": false
   },
   "outputs": [
    {
     "name": "stdout",
     "output_type": "stream",
     "text": [
      "[1 2 3 4 5 6 7 8 9] [0]\n",
      "[0 2 3 4 5 6 7 8 9] [1]\n",
      "[0 1 3 4 5 6 7 8 9] [2]\n",
      "[0 1 2 4 5 6 7 8 9] [3]\n",
      "[0 1 2 3 5 6 7 8 9] [4]\n",
      "[0 1 2 3 4 6 7 8 9] [5]\n",
      "[0 1 2 3 4 5 7 8 9] [6]\n",
      "[0 1 2 3 4 5 6 8 9] [7]\n",
      "[0 1 2 3 4 5 6 7 9] [8]\n",
      "[0 1 2 3 4 5 6 7 8] [9]\n"
     ]
    }
   ],
   "source": [
    "for train_indices, test_index in model_selection.LeaveOneOut().split(np.arange(10)):\n",
    "    print train_indices, test_index"
   ]
  },
  {
   "cell_type": "markdown",
   "metadata": {},
   "source": [
    "Больше стратегий проведения кросс-валидации доступно здесь: http://scikit-learn.org/stable/modules/cross_validation.html#cross-validation-iterators"
   ]
  }
 ],
 "metadata": {
  "kernelspec": {
   "display_name": "Python 2",
   "language": "python",
   "name": "python2"
  },
  "language_info": {
   "codemirror_mode": {
    "name": "ipython",
    "version": 2
   },
   "file_extension": ".py",
   "mimetype": "text/x-python",
   "name": "python",
   "nbconvert_exporter": "python",
   "pygments_lexer": "ipython2",
   "version": "2.7.13"
  }
 },
 "nbformat": 4,
 "nbformat_minor": 0
}
